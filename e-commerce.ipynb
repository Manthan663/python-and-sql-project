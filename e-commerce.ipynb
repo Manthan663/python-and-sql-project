{
 "cells": [
  {
   "cell_type": "code",
   "execution_count": 1,
   "id": "7621e906-a2ff-4213-bdbc-f5335f637e6e",
   "metadata": {},
   "outputs": [
    {
     "name": "stdout",
     "output_type": "stream",
     "text": [
      "Processing customers.csv\n",
      "NaN values before replacement:\n",
      "customer_id                 0\n",
      "customer_unique_id          0\n",
      "customer_zip_code_prefix    0\n",
      "customer_city               0\n",
      "customer_state              0\n",
      "dtype: int64\n",
      "\n",
      "Processing orders.csv\n",
      "NaN values before replacement:\n",
      "order_id                            0\n",
      "customer_id                         0\n",
      "order_status                        0\n",
      "order_purchase_timestamp            0\n",
      "order_approved_at                 160\n",
      "order_delivered_carrier_date     1783\n",
      "order_delivered_customer_date    2965\n",
      "order_estimated_delivery_date       0\n",
      "dtype: int64\n",
      "\n",
      "Processing sellers.csv\n",
      "NaN values before replacement:\n",
      "seller_id                 0\n",
      "seller_zip_code_prefix    0\n",
      "seller_city               0\n",
      "seller_state              0\n",
      "dtype: int64\n",
      "\n",
      "Processing products.csv\n",
      "NaN values before replacement:\n",
      "product_id                      0\n",
      "product category              610\n",
      "product_name_length           610\n",
      "product_description_length    610\n",
      "product_photos_qty            610\n",
      "product_weight_g                2\n",
      "product_length_cm               2\n",
      "product_height_cm               2\n",
      "product_width_cm                2\n",
      "dtype: int64\n",
      "\n",
      "Processing geolocation.csv\n",
      "NaN values before replacement:\n",
      "geolocation_zip_code_prefix    0\n",
      "geolocation_lat                0\n",
      "geolocation_lng                0\n",
      "geolocation_city               0\n",
      "geolocation_state              0\n",
      "dtype: int64\n",
      "\n",
      "Processing payments.csv\n",
      "NaN values before replacement:\n",
      "order_id                0\n",
      "payment_sequential      0\n",
      "payment_type            0\n",
      "payment_installments    0\n",
      "payment_value           0\n",
      "dtype: int64\n",
      "\n",
      "Processing order_items.csv\n",
      "NaN values before replacement:\n",
      "order_id               0\n",
      "order_item_id          0\n",
      "product_id             0\n",
      "seller_id              0\n",
      "shipping_limit_date    0\n",
      "price                  0\n",
      "freight_value          0\n",
      "dtype: int64\n",
      "\n"
     ]
    }
   ],
   "source": [
    "import pandas as pd\n",
    "import psycopg2\n",
    "import os\n",
    "\n",
    "# List of CSV files and their corresponding table names\n",
    "csv_files = [\n",
    "    ('customers.csv', 'customers'),\n",
    "    ('orders.csv', 'orders'),\n",
    "    ('sellers.csv', 'sellers'),\n",
    "    ('products.csv', 'products'),\n",
    "    ('geolocation.csv', 'geolocation'),\n",
    "    ('payments.csv', 'payments'),\n",
    "    ('order_items.csv', 'order_items')\n",
    "]\n",
    "\n",
    "# Connect to the PostgreSQL database\n",
    "conn = psycopg2.connect(\n",
    "    host='localhost',\n",
    "    user='postgres',\n",
    "    password='man12345',\n",
    "    dbname='mydb'  # use dbname instead of database\n",
    ")\n",
    "cursor = conn.cursor()\n",
    "\n",
    "# Folder containing the CSV files\n",
    "folder_path = 'C:/Users/manth/OneDrive/Desktop/E-Commerce'\n",
    "\n",
    "# Function to map pandas dtypes to PostgreSQL types\n",
    "def get_sql_type(dtype):\n",
    "    if pd.api.types.is_integer_dtype(dtype):\n",
    "        return 'INTEGER'\n",
    "    elif pd.api.types.is_float_dtype(dtype):\n",
    "        return 'REAL'\n",
    "    elif pd.api.types.is_bool_dtype(dtype):\n",
    "        return 'BOOLEAN'\n",
    "    elif pd.api.types.is_datetime64_any_dtype(dtype):\n",
    "        return 'TIMESTAMP'\n",
    "    else:\n",
    "        return 'TEXT'\n",
    "\n",
    "# Process each CSV file\n",
    "for csv_file, table_name in csv_files:\n",
    "    file_path = os.path.join(folder_path, csv_file)\n",
    "    \n",
    "    # Read the CSV file into a pandas DataFrame\n",
    "    df = pd.read_csv(file_path)\n",
    "    \n",
    "    # Replace NaN with None to handle SQL NULLs\n",
    "    df = df.where(pd.notnull(df), None)\n",
    "\n",
    "    print(f\"Processing {csv_file}\")\n",
    "    print(f\"NaN values before replacement:\\n{df.isnull().sum()}\\n\")\n",
    "\n",
    "    # Clean column names for compatibility\n",
    "    df.columns = [col.replace(' ', '_').replace('-', '_').replace('.', '_') for col in df.columns]\n",
    "\n",
    "    # Create table with appropriate data types\n",
    "    columns = ', '.join([f'\"{col}\" {get_sql_type(df[col].dtype)}' for col in df.columns])\n",
    "    create_table_query = f'CREATE TABLE IF NOT EXISTS \"{table_name}\" ({columns})'\n",
    "    cursor.execute(create_table_query)\n",
    "\n",
    "    # Prepare INSERT statement\n",
    "    column_names = ', '.join([f'\"{col}\"' for col in df.columns])\n",
    "    placeholders = ', '.join(['%s'] * len(df.columns))\n",
    "    insert_query = f'INSERT INTO \"{table_name}\" ({column_names}) VALUES ({placeholders})'\n",
    "\n",
    "    # Insert data row by row\n",
    "    for _, row in df.iterrows():\n",
    "        values = tuple(None if pd.isna(x) else x for x in row)\n",
    "        cursor.execute(insert_query, values)\n",
    "\n",
    "    # Commit after each table\n",
    "    conn.commit()\n",
    "\n",
    "# Close the connection\n",
    "conn.close()\n"
   ]
  },
  {
   "cell_type": "code",
   "execution_count": null,
   "id": "3374b57e-4d7c-410e-bf97-e1b96a86e517",
   "metadata": {},
   "outputs": [],
   "source": [
    "pip install psycopg2-binary"
   ]
  },
  {
   "cell_type": "code",
   "execution_count": 1,
   "id": "5e8406fc-5734-406e-8756-2420914a89e7",
   "metadata": {},
   "outputs": [],
   "source": [
    "import pandas as pd\n",
    "import numpy as np\n",
    "import matplotlib.pyplot as plt\n",
    "import psycopg2\n",
    "\n",
    "db = psycopg2.connect(\n",
    "    host='localhost',\n",
    "    user='postgres',\n",
    "    password='man12345',\n",
    "    dbname='mydb'  \n",
    ")\n",
    "cur  = db.cursor()"
   ]
  },
  {
   "cell_type": "markdown",
   "id": "cf69d1a1-970e-4df1-bd27-ea4555ae53f8",
   "metadata": {},
   "source": [
    "# List All unique cities where customers are located"
   ]
  },
  {
   "cell_type": "code",
   "execution_count": 13,
   "id": "284fec99-12bc-46f8-890a-ad062f24d394",
   "metadata": {},
   "outputs": [
    {
     "data": {
      "text/html": [
       "<div>\n",
       "<style scoped>\n",
       "    .dataframe tbody tr th:only-of-type {\n",
       "        vertical-align: middle;\n",
       "    }\n",
       "\n",
       "    .dataframe tbody tr th {\n",
       "        vertical-align: top;\n",
       "    }\n",
       "\n",
       "    .dataframe thead th {\n",
       "        text-align: right;\n",
       "    }\n",
       "</style>\n",
       "<table border=\"1\" class=\"dataframe\">\n",
       "  <thead>\n",
       "    <tr style=\"text-align: right;\">\n",
       "      <th></th>\n",
       "      <th>0</th>\n",
       "    </tr>\n",
       "  </thead>\n",
       "  <tbody>\n",
       "    <tr>\n",
       "      <th>0</th>\n",
       "      <td>franca</td>\n",
       "    </tr>\n",
       "    <tr>\n",
       "      <th>1</th>\n",
       "      <td>sao bernardo do campo</td>\n",
       "    </tr>\n",
       "    <tr>\n",
       "      <th>2</th>\n",
       "      <td>sao paulo</td>\n",
       "    </tr>\n",
       "    <tr>\n",
       "      <th>3</th>\n",
       "      <td>mogi das cruzes</td>\n",
       "    </tr>\n",
       "    <tr>\n",
       "      <th>4</th>\n",
       "      <td>campinas</td>\n",
       "    </tr>\n",
       "    <tr>\n",
       "      <th>5</th>\n",
       "      <td>jaragua do sul</td>\n",
       "    </tr>\n",
       "    <tr>\n",
       "      <th>6</th>\n",
       "      <td>sao paulo</td>\n",
       "    </tr>\n",
       "    <tr>\n",
       "      <th>7</th>\n",
       "      <td>timoteo</td>\n",
       "    </tr>\n",
       "    <tr>\n",
       "      <th>8</th>\n",
       "      <td>curitiba</td>\n",
       "    </tr>\n",
       "    <tr>\n",
       "      <th>9</th>\n",
       "      <td>belo horizonte</td>\n",
       "    </tr>\n",
       "  </tbody>\n",
       "</table>\n",
       "</div>"
      ],
      "text/plain": [
       "                       0\n",
       "0                 franca\n",
       "1  sao bernardo do campo\n",
       "2              sao paulo\n",
       "3        mogi das cruzes\n",
       "4               campinas\n",
       "5         jaragua do sul\n",
       "6              sao paulo\n",
       "7                timoteo\n",
       "8               curitiba\n",
       "9         belo horizonte"
      ]
     },
     "execution_count": 13,
     "metadata": {},
     "output_type": "execute_result"
    }
   ],
   "source": [
    "query = \"\"\"select customer_city from customers\"\"\"\n",
    "\n",
    "cur.execute(query)\n",
    "\n",
    "data = cur.fetchall()\n",
    "\n",
    "df = pd.DataFrame(data).head(10)\n",
    "df"
   ]
  },
  {
   "cell_type": "markdown",
   "id": "63e590fa-638d-4c21-b2ea-d66b5ab3575c",
   "metadata": {},
   "source": [
    "# Count the number of orders palced in 2017"
   ]
  },
  {
   "cell_type": "code",
   "execution_count": 7,
   "id": "ffdd9f70-bac7-4357-a92d-feef1c069612",
   "metadata": {},
   "outputs": [
    {
     "data": {
      "text/plain": [
       "('total order palced in 2017 are:', 180404)"
      ]
     },
     "execution_count": 7,
     "metadata": {},
     "output_type": "execute_result"
    }
   ],
   "source": [
    "db.rollback()\n",
    "query = \"\"\"\n",
    "SELECT COUNT(order_id)\n",
    "FROM orders\n",
    "WHERE EXTRACT(YEAR FROM order_purchase_timestamp::timestamp) = 2017\n",
    "\"\"\"\n",
    "cur.execute(query)\n",
    "data = cur.fetchall()\n",
    "\"total order palced in 2017 are:\",data[0][0]\n",
    "\n"
   ]
  },
  {
   "cell_type": "markdown",
   "id": "e6f72e1c-f754-4d3d-a446-fdb3fb6736cd",
   "metadata": {},
   "source": [
    "# Find total sales  per category "
   ]
  },
  {
   "cell_type": "code",
   "execution_count": 40,
   "id": "9edb6767-35fa-436d-b1d7-bb42f26f9e7e",
   "metadata": {},
   "outputs": [
    {
     "name": "stdout",
     "output_type": "stream",
     "text": [
      "[('Agro Industria e Comercio', 4274312.5), ('Art', 1115745.1), ('Arts and Crafts', 83742.16), ('audio', 2171687.5), ('automotive', 30683084.0), ('babies', 19434348.0), ('Bags Accessories', 6737420.5), ('bed table bath', 61655236.0), ('Blu Ray DVDs', 285670.34), ('Casa Construcao', 4919259.5), ('cds music dvds', 43179.508), ('Christmas articles', 683811.2), ('cine photo', 343090.88), ('CITTE AND UPHACK FURNITURE', 215947.34), ('climatization', 3282144.2), ('computer accessories', 57072468.0), ('CONSTRUCTION SECURITY TOOLS', 2364879.8), ('Construction Tools Construction', 8693017.0), ('Construction Tools Garden', 1526199.5), ('Construction Tools Illumination', 2617654.5), ('Construction Tools Tools', 758485.6), ('Cool Stuff', 28068854.0), ('Drink foods', 982433.1), ('drinks', 2571452.0), ('ELECTRICES 2', 4484256.0), ('electronics', 9355031.0), ('electrostile', 8120986.0), ('Fashion Bags and Accessories', 7853506.5), ('Fashion Calcados', 1167223.4), (\"Fashion Children's Clothing\", 28284.11), (\"Fashion Men's Clothing\", 622475.06), ('Fashion Sport', 131253.27), ('Fashion Underwear and Beach Fashion', 457722.56), (\"Fashion Women's Clothing\", 183946.4), ('fixed telephony', 7452291.0), ('flowers', 79668.33), ('foods', 1671432.9), ('Furniture', 1137559.1), ('Furniture Decoration', 51487608.0), ('Furniture Kitchen Service Area Dinner and Garden', 2687798.0), ('Furniture office', 23285608.0), ('Games consoles', 7037255.0), ('Garden tools', 30178614.0), ('General Interest Books', 2329022.2), ('HEALTH BEAUTY', 59663736.0), ('home appliances', 3439184.5), ('House comfort', 3035819.8), ('House Comfort 2', 61579.473), ('HOUSE PASTALS OVEN AND CAFE', 1844253.0), ('housewares', 39411224.0), ('Hygiene diapers', 151965.0), ('IMAGE IMPORT TABLETS', 361544.84), ('Imported books', 241268.47), ('Industry Commerce and Business', 2042860.9), ('insurance and services', 11682.36), ('Kitchen portable and food coach', 156083.56), ('La Cuisine', 104887.086), ('Market Place', 1632091.9), ('musical instruments', 8390729.0), ('party articles', 214786.89), ('PC Gamer', 78279.51), ('PCs', 10048378.0), ('perfumery', 18242224.0), ('pet Shop', 11205632.0), ('Room Furniture', 4901036.5), ('SIGNALIZATION AND SAFETY', 2465557.5), ('song', 248451.62), ('sport leisure', 50116704.0), ('stationary store', 11428010.0), ('technical books', 896952.4), ('telephony', 17527460.0), ('toys', 22284956.0), ('Watches present', 51454308.0), (None, 9100695.0)]\n"
     ]
    }
   ],
   "source": [
    "db.rollback()\n",
    "query = \"\"\"\n",
    "SELECT products.product_category, SUM(payments.payment_value)\n",
    "FROM products\n",
    "JOIN order_items ON products.product_id = order_items.product_id\n",
    "JOIN payments ON payments.order_id = order_items.order_id\n",
    "GROUP BY products.product_category\n",
    "\"\"\"\n",
    "cur.execute(query)\n",
    "data = cur.fetchall()\n",
    "print(data)\n"
   ]
  },
  {
   "cell_type": "markdown",
   "id": "024c37d9-77a8-49a8-bdbf-63046f240aa2",
   "metadata": {},
   "source": [
    "# calculate percentage of orders that were paid in installments"
   ]
  },
  {
   "cell_type": "code",
   "execution_count": 59,
   "id": "85fe3dd9-49a5-4c94-826c-b18a33d1e47b",
   "metadata": {},
   "outputs": [
    {
     "name": "stdout",
     "output_type": "stream",
     "text": [
      "[(0, 6), (1, 157638), (2, 37239), (3, 31383), (4, 21294), (5, 15717), (6, 11760), (7, 4878), (8, 12804), (9, 1932), (10, 15984), (11, 69), (12, 399), (13, 48), (14, 45), (15, 222), (16, 15), (17, 24), (18, 81), (20, 51), (21, 9), (22, 3), (23, 3), (24, 54)]\n"
     ]
    }
   ],
   "source": [
    "db.rollback()\n",
    "query = \"\"\"\n",
    "SELECT payment_installments, COUNT(*)\n",
    "FROM payments\n",
    "GROUP BY payment_installments\n",
    "ORDER BY payment_installments\n",
    "\"\"\"\n",
    "cur.execute(query)\n",
    "print(cur.fetchall())\n"
   ]
  },
  {
   "cell_type": "markdown",
   "id": "2420502d-10d6-4925-98ef-5fccc5f44969",
   "metadata": {},
   "source": [
    "# Count the Number of customers of each state "
   ]
  },
  {
   "cell_type": "code",
   "execution_count": 34,
   "id": "d604245f-db86-4169-918c-49a1e5d37138",
   "metadata": {},
   "outputs": [
    {
     "name": "stdout",
     "output_type": "stream",
     "text": [
      "[('AC', 324), ('AL', 1652), ('AM', 592), ('AP', 272), ('BA', 13520), ('CE', 5344), ('DF', 8560), ('ES', 8132), ('GO', 8080), ('MA', 2988), ('MG', 46540), ('MS', 2860), ('MT', 3628), ('PA', 3900), ('PB', 2144), ('PE', 6608), ('PI', 1980), ('PR', 20180), ('RJ', 51408), ('RN', 1940), ('RO', 1012), ('RR', 184), ('RS', 21864), ('SC', 14548), ('SE', 1400), ('SP', 166984), ('TO', 1120)]\n"
     ]
    },
    {
     "data": {
      "image/png": "[encoded data removed]",
      "text/plain": [
       "<Figure size 640x480 with 1 Axes>"
      ]
     },
     "metadata": {},
     "output_type": "display_data"
    }
   ],
   "source": [
    "query = \"\"\"select customer_state,count(customer_id) from customers\n",
    "group by customer_state\"\"\"\n",
    "\n",
    "cur.execute(query)\n",
    "data = cur.fetchall()\n",
    "print(data)\n",
    "df = pd.DataFrame(data,columns = [\"state\",\"customer_count\"])\n",
    "df = df.sort_values(by = \"customer_count\",ascending = False)\n",
    "plt.bar(df[\"state\"],df[\"customer_count\"])\n",
    "\n",
    "plt.xticks(rotation = 90)\n",
    "plt.show()"
   ]
  },
  {
   "cell_type": "markdown",
   "id": "cce8101f-101d-47bb-ac9e-d3d53f57e465",
   "metadata": {},
   "source": [
    "# Calculate Number of orders per month in 2018"
   ]
  },
  {
   "cell_type": "code",
   "execution_count": 109,
   "id": "77261486-9357-4bd9-b83c-eb5077a24689",
   "metadata": {},
   "outputs": [
    {
     "data": {
      "image/png": "[encoded data removed]",
      "text/plain": [
       "<Figure size 640x480 with 1 Axes>"
      ]
     },
     "metadata": {},
     "output_type": "display_data"
    }
   ],
   "source": [
    "import seaborn as sns\n",
    "\n",
    "db.rollback()\n",
    "query = \"\"\"SELECT EXTRACT(MONTH FROM order_purchase_timestamp::timestamp) AS month_number,\n",
    "       TO_CHAR(order_purchase_timestamp::timestamp, 'FMMonth') AS month_name,\n",
    "       COUNT(order_id)\n",
    "FROM orders\n",
    "WHERE EXTRACT(YEAR FROM order_purchase_timestamp::timestamp) = 2018\n",
    "GROUP BY month_number, month_name\n",
    "ORDER BY month_number;\n",
    "\"\"\"\n",
    "\n",
    "\n",
    "cur.execute(query)\n",
    "data = cur.fetchall()\n",
    "\n",
    "\n",
    "df = pd.DataFrame(data, columns=[\"month_number\", \"month_name\", \"order_count\"])\n",
    "\n",
    "\n",
    "o = [\"January\", \"February\", \"March\", \"April\", \"May\", \"June\", \"July\", \"August\", \"September\", \"October\", \"November\", \"December\"]\n",
    "\n",
    "\n",
    "ax = sns.barplot(x=df['month_number'], y=df['order_count'], order=range(1, 13),width = 0.5) \n",
    "ax.bar_label(ax.containers[0],fontsize=8)\n",
    "plt.xticks(ticks=range(12), labels=o, rotation=45)\n",
    "plt.xlabel(\"Month\")\n",
    "plt.ylabel(\"Order Count\")\n",
    "plt.title(\"Order Count per Month in 2018\")\n",
    "plt.show()\n",
    "\n"
   ]
  },
  {
   "cell_type": "markdown",
   "id": "2f66ad24-d383-4c9b-aeb3-f6603d28ef92",
   "metadata": {},
   "source": [
    "# Find the average number of products per order,grouped by customer city"
   ]
  },
  {
   "cell_type": "code",
   "execution_count": 20,
   "id": "bfb7de4c-a357-46c9-b8bd-59d294983531",
   "metadata": {},
   "outputs": [
    {
     "data": {
      "text/html": [
       "<div>\n",
       "<style scoped>\n",
       "    .dataframe tbody tr th:only-of-type {\n",
       "        vertical-align: middle;\n",
       "    }\n",
       "\n",
       "    .dataframe tbody tr th {\n",
       "        vertical-align: top;\n",
       "    }\n",
       "\n",
       "    .dataframe thead th {\n",
       "        text-align: right;\n",
       "    }\n",
       "</style>\n",
       "<table border=\"1\" class=\"dataframe\">\n",
       "  <thead>\n",
       "    <tr style=\"text-align: right;\">\n",
       "      <th></th>\n",
       "      <th>0</th>\n",
       "      <th>1</th>\n",
       "    </tr>\n",
       "  </thead>\n",
       "  <tbody>\n",
       "    <tr>\n",
       "      <th>0</th>\n",
       "      <td>bom jardim de minas</td>\n",
       "      <td>16.50</td>\n",
       "    </tr>\n",
       "    <tr>\n",
       "      <th>1</th>\n",
       "      <td>alto rio doce</td>\n",
       "      <td>12.00</td>\n",
       "    </tr>\n",
       "    <tr>\n",
       "      <th>2</th>\n",
       "      <td>alvorada do gurgueia</td>\n",
       "      <td>12.00</td>\n",
       "    </tr>\n",
       "    <tr>\n",
       "      <th>3</th>\n",
       "      <td>batatais</td>\n",
       "      <td>13.29</td>\n",
       "    </tr>\n",
       "    <tr>\n",
       "      <th>4</th>\n",
       "      <td>capao da porteira</td>\n",
       "      <td>12.00</td>\n",
       "    </tr>\n",
       "    <tr>\n",
       "      <th>5</th>\n",
       "      <td>icatu</td>\n",
       "      <td>12.00</td>\n",
       "    </tr>\n",
       "    <tr>\n",
       "      <th>6</th>\n",
       "      <td>osorio</td>\n",
       "      <td>14.06</td>\n",
       "    </tr>\n",
       "    <tr>\n",
       "      <th>7</th>\n",
       "      <td>populina</td>\n",
       "      <td>24.00</td>\n",
       "    </tr>\n",
       "    <tr>\n",
       "      <th>8</th>\n",
       "      <td>novo mundo</td>\n",
       "      <td>12.00</td>\n",
       "    </tr>\n",
       "    <tr>\n",
       "      <th>9</th>\n",
       "      <td>tururu</td>\n",
       "      <td>12.00</td>\n",
       "    </tr>\n",
       "    <tr>\n",
       "      <th>10</th>\n",
       "      <td>alta floresta d'oeste</td>\n",
       "      <td>12.00</td>\n",
       "    </tr>\n",
       "    <tr>\n",
       "      <th>11</th>\n",
       "      <td>cajamar</td>\n",
       "      <td>13.94</td>\n",
       "    </tr>\n",
       "    <tr>\n",
       "      <th>12</th>\n",
       "      <td>presidente lucena</td>\n",
       "      <td>12.00</td>\n",
       "    </tr>\n",
       "    <tr>\n",
       "      <th>13</th>\n",
       "      <td>santa maria do salto</td>\n",
       "      <td>12.00</td>\n",
       "    </tr>\n",
       "    <tr>\n",
       "      <th>14</th>\n",
       "      <td>cacador</td>\n",
       "      <td>12.60</td>\n",
       "    </tr>\n",
       "  </tbody>\n",
       "</table>\n",
       "</div>"
      ],
      "text/plain": [
       "                        0      1\n",
       "0     bom jardim de minas  16.50\n",
       "1           alto rio doce  12.00\n",
       "2    alvorada do gurgueia  12.00\n",
       "3                batatais  13.29\n",
       "4       capao da porteira  12.00\n",
       "5                   icatu  12.00\n",
       "6                  osorio  14.06\n",
       "7                populina  24.00\n",
       "8              novo mundo  12.00\n",
       "9                  tururu  12.00\n",
       "10  alta floresta d'oeste  12.00\n",
       "11                cajamar  13.94\n",
       "12      presidente lucena  12.00\n",
       "13   santa maria do salto  12.00\n",
       "14                cacador  12.60"
      ]
     },
     "execution_count": 20,
     "metadata": {},
     "output_type": "execute_result"
    }
   ],
   "source": [
    "db.rollback()\n",
    "query = \"\"\"WITH count_per_order AS (\n",
    "              SELECT orders.order_id,\n",
    "                     orders.customer_id,\n",
    "                     COUNT(order_items.order_id) AS oc\n",
    "              FROM orders\n",
    "              JOIN order_items ON orders.order_id = order_items.order_id\n",
    "              GROUP BY orders.order_id, orders.customer_id\n",
    "          )\n",
    "          SELECT customers.customer_city,\n",
    "                 ROUND(AVG(count_per_order.oc), 2) AS average_orders\n",
    "          FROM customers\n",
    "          JOIN count_per_order ON customers.customer_id = count_per_order.customer_id\n",
    "          GROUP BY customers.customer_city;\n",
    "\"\"\"\n",
    "cur.execute(query)\n",
    "data = cur.fetchall()\n",
    "df = pd.DataFrame(data).head(15)\n",
    "df"
   ]
  },
  {
   "cell_type": "code",
   "execution_count": null,
   "id": "1c38c4b0-23ad-40cd-a114-a40df03e295b",
   "metadata": {},
   "outputs": [],
   "source": []
  }
 ],
 "metadata": {
  "kernelspec": {
   "display_name": "Python [conda env:base] *",
   "language": "python",
   "name": "conda-base-py"
  },
  "language_info": {
   "codemirror_mode": {
    "name": "ipython",
    "version": 3
   },
   "file_extension": ".py",
   "mimetype": "text/x-python",
   "name": "python",
   "nbconvert_exporter": "python",
   "pygments_lexer": "ipython3",
   "version": "3.12.7"
  }
 },
 "nbformat": 4,
 "nbformat_minor": 5
}
